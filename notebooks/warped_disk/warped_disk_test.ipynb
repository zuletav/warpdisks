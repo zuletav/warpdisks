{
 "cells": [
  {
   "cell_type": "code",
   "execution_count": 18,
   "id": "b023e6f7",
   "metadata": {},
   "outputs": [],
   "source": [
    "import os\n",
    "import subprocess\n",
    "\n",
    "from matplotlib import cm\n",
    "from matplotlib import pyplot as plt\n",
    "from matplotlib.colors import LogNorm\n",
    "\n",
    "import numpy as np\n",
    "from tqdm.auto import tqdm\n",
    "\n",
    "from radmc3dPy.image import readImage, plotImage, makeImage\n",
    "from astropy import constants as c\n",
    "\n",
    "au = c.au.cgs.value\n",
    "pc = c.pc.cgs.value\n",
    "M_sun = c.M_sun.cgs.value\n",
    "L_sun = c.L_sun.cgs.value\n",
    "R_sun = c.R_sun.cgs.value\n",
    "Grav = c.G.cgs.value\n",
    "m_p = c.m_p.cgs.value\n",
    "\n",
    "\n",
    "def logistic(a, r, r0, dr):\n",
    "    return np.radians(a / (1.0 + np.exp((r - r0) / (0.1 * dr))))\n",
    "\n",
    "\n",
    "def grid_refine_inner_edge(x_orig, nlev, nspan):\n",
    "    x = x_orig.copy()\n",
    "    rev = x[0] > x[1]\n",
    "    for ilev in range(nlev):\n",
    "        x_new = 0.5 * (x[1:nspan + 1] + x[:nspan])\n",
    "        x_ref = np.hstack((x, x_new))\n",
    "        x_ref.sort()\n",
    "        x = x_ref\n",
    "        if rev:\n",
    "            x = x[::-1]\n",
    "    return x\n",
    "\n",
    "def warp_coordinates(x, y, z, phi, theta):\n",
    "    xprime = x * np.cos(phi)   - y * np.cos(theta) * np.sin(phi) + z * np.sin(theta) * np.sin(phi)   \n",
    "    yprime = x * np.sin(phi)   + y * np.cos(theta) * np.cos(phi) - z * np.sin(theta) * np.cos(phi)\n",
    "    zprime =                     y * np.sin(theta)               + z * np.cos(theta)\n",
    "    return xprime, yprime, zprime\n",
    "\n",
    "\n",
    "def unwarp_coordinates(x, y, z, phi, theta):\n",
    "    xprime =  x * np.cos(phi)                 + y * np.sin(phi)\n",
    "    yprime = -x * np.sin(phi) * np.cos(theta) + y * np.cos(phi) * np.cos(theta) + z * np.sin(theta)\n",
    "    zprime =  x * np.sin(phi) * np.sin(theta) - y * np.cos(phi) * np.sin(theta) + z * np.cos(theta)\n",
    "    return xprime, yprime, zprime\n",
    "\n",
    "def vel_sph_to_car(theta, phi, vr, vtheta, vphi):\n",
    "    \n",
    "    vx = vr * np.sin(theta) * np.cos(phi) + vtheta * np.cos(theta) * np.cos(phi) - vphi * np.sin(theta) * np.sin(phi)\n",
    "    vy = vr * np.sin(theta) * np.sin(phi) + vtheta * np.cos(theta) * np.sin(phi) + vphi * np.sin(theta) * np.cos(phi)\n",
    "    vz = vr * np.cos(theta)               - vtheta * np.sin(theta)\n",
    "    \n",
    "    return vx, vy, vz\n",
    "\n",
    "def vel_car_to_sph(theta, phi, vx, vy, vz):\n",
    "    \n",
    "    vr = vx*np.sin(theta)*np.cos(phi) + vy*np.sin(theta)*np.sin(phi) + vz*np.cos(theta)\n",
    "    vt = vx*np.cos(theta)*np.cos(phi) + vy*np.cos(theta)*np.sin(phi) - vz*np.sin(theta)\n",
    "    vp = -vx*np.sin(phi) + vy*np.cos(phi)\n",
    "    \n",
    "    return vr, vt, vp\n",
    "\n",
    "def vel_car_to_sph_2(x, y, z, vx, vy, vz):\n",
    "    \n",
    "    # Velocities\n",
    "    rho = x**2 + y**2\n",
    "    r = x**2 + y**2 + z**2 \n",
    "    \n",
    "    vr = (x*vx + y*vy + z*vz)/np.sqrt(r)\n",
    "    vtheta = (-(x*vx + y*vy)*z + (rho)*vz)/(np.sqrt(rho)*(r))\n",
    "    vphi = (x*vy - y*vx)/(rho)\n",
    "    return vr, vtheta, vphi"
   ]
  },
  {
   "cell_type": "code",
   "execution_count": 19,
   "id": "61282ea9",
   "metadata": {},
   "outputs": [],
   "source": [
    "def call_radmc(cmd, verbose=False, total=None):\n",
    "    \"\"\"\n",
    "    Run radmc3d command and show progress bar instead.\n",
    "    \n",
    "    cmd : str\n",
    "        the command to run, e.g. 'radmc3d mctherm'\n",
    "        \n",
    "    verbose : bool\n",
    "        if True, then all output except the photon packges are shown\n",
    "        if False, just the progress is shown.\n",
    "        \n",
    "    total : None | int\n",
    "        total number of photon packages, if known\n",
    "    \"\"\"\n",
    "    p = subprocess.Popen(cmd, shell=True, stdout=subprocess.PIPE, text=True)\n",
    "    output = []\n",
    "    \n",
    "    if 'nphot' in cmd:\n",
    "        total = int(cmd.split('nphot')[1].split()[1])\n",
    "\n",
    "    with tqdm(total=total, unit='photons') as pbar:\n",
    "        for line in p.stdout:\n",
    "            if 'Photon nr' in line:\n",
    "                pbar.update(1000)\n",
    "            elif verbose:\n",
    "                print(line, end='')\n",
    "            output += [line]\n",
    "    rc = p.wait()\n",
    "    return rc, ''.join(output)"
   ]
  },
  {
   "cell_type": "code",
   "execution_count": 20,
   "id": "38fc65e1",
   "metadata": {},
   "outputs": [],
   "source": [
    "# Monte Carlo parameters\n",
    "#\n",
    "nphot_therm = 1000000\n",
    "nphot_scat = 1000000"
   ]
  },
  {
   "cell_type": "code",
   "execution_count": 21,
   "id": "c4951760",
   "metadata": {},
   "outputs": [],
   "source": [
    "# Grid parameters\n",
    "#\n",
    "n_r = 128\n",
    "n_theta = 128\n",
    "n_phi = 128\n",
    "r_in = 0.5 * au\n",
    "r_out = 100 * au\n",
    "thetaup = 0.1       # Theta grid starting point (0=pole, but singular, so choose >0)"
   ]
  },
  {
   "cell_type": "code",
   "execution_count": 22,
   "id": "1d7c9f88",
   "metadata": {},
   "outputs": [],
   "source": [
    "# inner edge grid refinement\n",
    "nlev_rin = 8\n",
    "nspan_rin = 3"
   ]
  },
  {
   "cell_type": "code",
   "execution_count": 23,
   "id": "406d2774",
   "metadata": {
    "lines_to_next_cell": 0
   },
   "outputs": [],
   "source": [
    "# Disk parameters\n",
    "#\n",
    "sigma_0 = 1e1           # Gas surface density at 1 au [g / cm^2]\n",
    "d2g = 0.01              # dust-to-gas ratio\n",
    "gamma_gas = 1.0         # power-law exponent of the surface density\n",
    "hor_0 = 0.05            # h/r at 1 au\n",
    "hor_exp = 0.1           # flaring exponent"
   ]
  },
  {
   "cell_type": "code",
   "execution_count": 24,
   "id": "f45ce491",
   "metadata": {},
   "outputs": [],
   "source": [
    "# Star parameters\n",
    "#\n",
    "M_star = 2.4 * M_sun\n",
    "R_star = 2.4 * R_sun\n",
    "T_star = 1e4\n",
    "star_coord = np.array([0., 0., 0.])"
   ]
  },
  {
   "cell_type": "code",
   "execution_count": 25,
   "id": "8d1cd18c",
   "metadata": {
    "lines_to_next_cell": 0
   },
   "outputs": [],
   "source": [
    "# Make the coordinates\n",
    "#\n",
    "ri = np.geomspace(r_in, r_out, n_r + 1)\n",
    "ri = grid_refine_inner_edge(ri, nlev_rin, nspan_rin)   # Refinement at inner edge\n",
    "thetai = np.linspace(thetaup, np.pi - thetaup, n_theta + 1)\n",
    "phii = np.linspace(0.0, 2.0 * np.pi, n_phi + 1)\n",
    "rc = 0.5 * (ri[:-1] + ri[1:])\n",
    "thetac = 0.5 * (thetai[:-1] + thetai[1:])\n",
    "phic = 0.5 * (phii[:-1] + phii[1:])\n",
    "n_r = len(rc)     # Recompute nr, because of refinement at inner edge"
   ]
  },
  {
   "cell_type": "code",
   "execution_count": 26,
   "id": "ebaca82b",
   "metadata": {
    "lines_to_next_cell": 0
   },
   "outputs": [],
   "source": [
    "# Make the full mesh\n",
    "#\n",
    "RC, THETAC, PHIC = np.meshgrid(rc, thetac, phic, indexing='ij')\n",
    "XC = RC * np.sin(THETAC) * np.cos(PHIC)\n",
    "YC = RC * np.sin(THETAC) * np.sin(PHIC)\n",
    "ZC = RC * np.cos(THETAC)"
   ]
  },
  {
   "cell_type": "markdown",
   "id": "9860cea6",
   "metadata": {},
   "source": [
    "### Make the warped model"
   ]
  },
  {
   "cell_type": "code",
   "execution_count": 27,
   "id": "bd63ab06",
   "metadata": {
    "lines_to_next_cell": 0
   },
   "outputs": [],
   "source": [
    "# un-warp the coordinates\n",
    "#\n",
    "warp  = 30. # PA\n",
    "twist = 15. # This gives the inc\n",
    "dr    = 40.\n",
    "r0    = 20\n",
    "\n",
    "warp_array  = logistic(warp , rc, r0 * au, dr * au)  # Specify the r0 and dr in AU\n",
    "twist_array = logistic(twist, rc, r0 * au, dr * au)\n",
    "\n",
    "XU, YU, ZU = unwarp_coordinates(\n",
    "    XC, YC, ZC,\n",
    "    warp_array[:, None, None],\n",
    "    twist_array[:, None, None])\n",
    "\n",
    "RU = np.sqrt(XU**2 + YU**2 + ZU**2)\n",
    "THETAU = np.pi / 2.0 - np.arctan2(ZU, np.sqrt(XU**2 + YU**2))\n",
    "PHIU = (np.arctan2(YU, XU) + np.pi)%(2 * np.pi)\n",
    "#print(PHIU.max(), PHIU.min())\n",
    "#print(THETAU.max(), THETAU.min())"
   ]
  },
  {
   "cell_type": "code",
   "execution_count": 28,
   "id": "a9a95783",
   "metadata": {
    "lines_to_next_cell": 0
   },
   "outputs": [],
   "source": [
    "# Make the dust density model\n",
    "#\n",
    "sig_g = sigma_0 * (RU / au)**-gamma_gas\n",
    "H = hor_0 * (RU / au)**hor_exp * RU\n",
    "rho_g = (sig_g / (np.sqrt(2. * np.pi) * H)) * np.exp(-(ZU**2 / H**2) / 2.0)\n",
    "rho_d = d2g * rho_g"
   ]
  },
  {
   "cell_type": "code",
   "execution_count": 29,
   "id": "55ec2e3e",
   "metadata": {},
   "outputs": [],
   "source": [
    "# Make the gas temperature model\n",
    "T_0 = 300.\n",
    "q = 0.5\n",
    "tgas = T_0 * (RU / (50.0 * au))**(-q)"
   ]
  },
  {
   "cell_type": "code",
   "execution_count": 30,
   "id": "833e6807",
   "metadata": {
    "lines_to_next_cell": 0
   },
   "outputs": [],
   "source": [
    "#XU, YU, ZU = unwarp_coordinates(XW, YW, ZW, warp_array[:, None, None], twist_array[:, None, None])\n",
    "VRU = np.zeros_like(RU)\n",
    "VTU = np.zeros_like(RU)\n",
    "VPU = np.sqrt(Grav * M_star / RU)\n",
    "\n",
    "# make cartesian velocities\n",
    "\n",
    "VXU, VYU, VZU = vel_sph_to_car(THETAU, PHIU, VRU, VTU, VPU)\n",
    "\n",
    "# warp velocities\n",
    "VXW, VYW, VZW = warp_coordinates(\n",
    "    VXU, VYU, VZU,\n",
    "    warp_array[:, None, None],\n",
    "    twist_array[:, None, None])\n",
    "\n",
    "# obtain velocities in spherical from the original mesh\n",
    "#VRW, VTW, VPW = vel_car_to_sph(THETAC, PHIC, VXU, VYU, VZU)\n",
    "VRW, VTW, VPW = vel_car_to_sph_2(XU, YU, ZU, VXU, VYU, VZU)\n",
    "\n",
    "vturb = 0.001 * VPW"
   ]
  },
  {
   "cell_type": "markdown",
   "id": "867cc9ba",
   "metadata": {},
   "source": [
    "### Write RADMC3D SETUP"
   ]
  },
  {
   "cell_type": "code",
   "execution_count": 31,
   "id": "aef7991a",
   "metadata": {
    "lines_to_next_cell": 0
   },
   "outputs": [],
   "source": [
    "# Write the wavelength_micron.inp file\n",
    "#\n",
    "lam1 = 0.1e0\n",
    "lam2 = 7.0e0\n",
    "lam3 = 25.0e0\n",
    "lam4 = 1.0e4\n",
    "n12 = 20\n",
    "n23 = 100\n",
    "n34 = 30\n",
    "lam12 = np.geomspace(lam1, lam2, n12, endpoint=False)\n",
    "lam23 = np.geomspace(lam2, lam3, n23, endpoint=False)\n",
    "lam34 = np.geomspace(lam3, lam4, n34, endpoint=True)\n",
    "lam = np.concatenate([lam12, lam23, lam34])\n",
    "nlam = lam.size"
   ]
  },
  {
   "cell_type": "code",
   "execution_count": 32,
   "id": "9a321e2e",
   "metadata": {
    "lines_to_next_cell": 0
   },
   "outputs": [],
   "source": [
    "# Write the wavelength file\n",
    "#\n",
    "with open('wavelength_micron.inp', 'w+') as f:\n",
    "    f.write('%d\\n' % (nlam))\n",
    "    for value in lam:\n",
    "        f.write('%13.6e\\n' % (value))"
   ]
  },
  {
   "cell_type": "code",
   "execution_count": 33,
   "id": "6cfef794",
   "metadata": {
    "lines_to_next_cell": 0
   },
   "outputs": [],
   "source": [
    "# Write the stars.inp file\n",
    "#\n",
    "with open('stars.inp', 'w+') as f:\n",
    "    f.write('2\\n')\n",
    "    f.write('1 %d\\n\\n' % (nlam))\n",
    "    f.write('%13.6e %13.6e %13.6e %13.6e %13.6e\\n\\n' % (R_star, M_star, *star_coord))\n",
    "    for value in lam:\n",
    "        f.write('%13.6e\\n' % (value))\n",
    "    f.write('\\n%13.6e\\n' % (-T_star))"
   ]
  },
  {
   "cell_type": "code",
   "execution_count": 34,
   "id": "b3cb9fba",
   "metadata": {
    "lines_to_next_cell": 0
   },
   "outputs": [],
   "source": [
    "# Write the grid file\n",
    "#\n",
    "with open('amr_grid.inp', 'w+') as f:\n",
    "    f.write('1\\n')                       # iformat\n",
    "    f.write('0\\n')                       # AMR grid style  (0=regular grid, no AMR)\n",
    "    f.write('100\\n')                     # Coordinate system: spherical\n",
    "    f.write('0\\n')                       # gridinfo\n",
    "    f.write('1 1 1\\n')                   # Include r,theta coordinates\n",
    "    f.write('%d %d %d\\n' % (n_r, n_theta, n_phi))  # Size of grid\n",
    "    for value in ri:\n",
    "        f.write('%13.6e\\n' % (value))      # X coordinates (cell walls)\n",
    "    for value in thetai:\n",
    "        f.write('%13.6e\\n' % (value))      # Y coordinates (cell walls)\n",
    "    for value in phii:\n",
    "        f.write('%13.6e\\n' % (value))      # Z coordinates (cell walls)"
   ]
  },
  {
   "cell_type": "code",
   "execution_count": 35,
   "id": "90f9eb36",
   "metadata": {
    "lines_to_next_cell": 0
   },
   "outputs": [],
   "source": [
    "# Write the density file\n",
    "#\n",
    "with open('dust_density.inp', 'w+') as f:\n",
    "    f.write('1\\n')                       # Format number\n",
    "    f.write('%d\\n' % (n_r * n_theta * n_phi))     # Nr of cells\n",
    "    f.write('1\\n')                       # Nr of dust species\n",
    "    data = rho_d.ravel(order='F')         # Create a 1-D view, fortran-style indexing\n",
    "    data.tofile(f, sep='\\n', format=\"%13.6e\")\n",
    "    f.write('\\n')"
   ]
  },
  {
   "cell_type": "code",
   "execution_count": 36,
   "id": "64c12261",
   "metadata": {
    "lines_to_next_cell": 0
   },
   "outputs": [],
   "source": [
    "# Dust opacity control file\n",
    "#\n",
    "with open('dustopac.inp', 'w+') as f:\n",
    "    f.write('2               Format number of this file\\n')\n",
    "    f.write('1               Nr of dust species\\n')\n",
    "    f.write('============================================================================\\n')\n",
    "    f.write('1               Way in which this dust species is read\\n')\n",
    "    f.write('0               0=Thermal grain\\n')\n",
    "    f.write('silicate        Extension of name of dustkappa_***.inp file\\n')\n",
    "    f.write('----------------------------------------------------------------------------\\n')"
   ]
  },
  {
   "cell_type": "code",
   "execution_count": 37,
   "id": "5e2c025f",
   "metadata": {
    "lines_to_next_cell": 0
   },
   "outputs": [],
   "source": [
    "# Write the molecule number density file.\n",
    "#\n",
    "CO_abundance = 1e-4\n",
    "fact_CO = CO_abundance / (2.3 * m_p)\n",
    "nco = rho_g * fact_CO\n",
    "with open('numberdens_co.inp', 'w+') as f:\n",
    "    f.write('1\\n')                       # Format number\n",
    "    f.write('%d\\n' % (n_r * n_theta * n_phi))     # Nr of cells\n",
    "    data = nco.ravel(order='F')          # Create a 1-D view, fortran-style indexing\n",
    "    data.tofile(f, sep='\\n', format=\"%13.6e\")\n",
    "    f.write('\\n')"
   ]
  },
  {
   "cell_type": "code",
   "execution_count": 38,
   "id": "4e0dcaa3",
   "metadata": {
    "lines_to_next_cell": 0
   },
   "outputs": [],
   "source": [
    "# Write the gas velocity field\n",
    "#\n",
    "with open('gas_velocity.inp', 'w+') as f:\n",
    "    f.write('1\\n')                       # Format number\n",
    "    f.write('%d\\n' % (n_r * n_theta * n_phi))     # Nr of cells\n",
    "    for iphi in range(n_phi):\n",
    "        for itheta in range(n_theta):\n",
    "            for ir in range(n_r):\n",
    "                f.write('%13.6e %13.6e %13.6e\\n' % (VRW[ir, itheta, iphi], VTW[ir, itheta, iphi], VPW[ir, itheta, iphi]))"
   ]
  },
  {
   "cell_type": "code",
   "execution_count": 39,
   "id": "b312bd03",
   "metadata": {
    "lines_to_next_cell": 0
   },
   "outputs": [],
   "source": [
    "# Write the microturbulence file\n",
    "#\n",
    "with open('microturbulence.inp', 'w+') as f:\n",
    "    f.write('1\\n')                       # Format number\n",
    "    f.write('%d\\n' % (n_r * n_theta * n_phi))     # Nr of cells\n",
    "    data = vturb.ravel(order='F')        # Create a 1-D view, fortran-style indexing\n",
    "    data.tofile(f, sep='\\n', format=\"%13.6e\")\n",
    "    f.write('\\n')"
   ]
  },
  {
   "cell_type": "code",
   "execution_count": 40,
   "id": "a7b7daf3",
   "metadata": {},
   "outputs": [],
   "source": [
    "# Write the gas temperature file\n",
    "#\n",
    "with open('gas_temperature.inp','w+') as f:\n",
    "    f.write('1\\n')                       # Format number\n",
    "    f.write('%d\\n'%(n_r*n_theta*n_phi))           # Nr of cells\n",
    "    data = tgas.ravel(order='F')          # Create a 1-D view, fortran-style indexing\n",
    "    data.tofile(f, sep='\\n', format=\"%13.6e\")\n",
    "    f.write('\\n')"
   ]
  },
  {
   "cell_type": "code",
   "execution_count": 41,
   "id": "bcc0295f",
   "metadata": {
    "lines_to_next_cell": 0
   },
   "outputs": [],
   "source": [
    "# Write the lines.inp control file\n",
    "#\n",
    "with open('lines.inp', 'w') as f:\n",
    "    f.write('1\\n')\n",
    "    f.write('1\\n')\n",
    "    f.write('co    leiden    0    0\\n')"
   ]
  },
  {
   "cell_type": "code",
   "execution_count": 42,
   "id": "9e9e320b",
   "metadata": {},
   "outputs": [],
   "source": [
    "# Write the radmc3d.inp control file\n",
    "#\n",
    "with open('radmc3d.inp', 'w+') as f:\n",
    "    f.write('nphot = %d\\n' % (nphot_therm))\n",
    "    f.write('nphot_scat = %d\\n' % (nphot_scat))\n",
    "    f.write('scattering_mode_max = 1\\n')\n",
    "    f.write('iranfreqmode = 1\\n')\n",
    "    f.write('tgas_eq_tdust = 0\\n')"
   ]
  },
  {
   "cell_type": "markdown",
   "id": "982d6739",
   "metadata": {},
   "source": [
    "## Run RADMC-3D"
   ]
  },
  {
   "cell_type": "code",
   "execution_count": 43,
   "id": "a8446773",
   "metadata": {
    "lines_to_next_cell": 2
   },
   "outputs": [],
   "source": [
    "dpc         = 140.     # Distance in parsec (for conversion to Jy/pixel in 1.3 mm map)\n",
    "incl        = 45.\n",
    "phi         = 45.\n",
    "npix        = 200\n",
    "sizeau      = 200\n",
    "lamda_image = 1.3e3"
   ]
  },
  {
   "cell_type": "markdown",
   "id": "3b76dc3b",
   "metadata": {},
   "source": [
    "### Thermal Monte Carlo"
   ]
  },
  {
   "cell_type": "code",
   "execution_count": 44,
   "id": "c752b91d",
   "metadata": {},
   "outputs": [
    {
     "data": {
      "application/vnd.jupyter.widget-view+json": {
       "model_id": "287008e19cab444790e8d531d3c7c20e",
       "version_major": 2,
       "version_minor": 0
      },
      "text/plain": [
       "  0%|          | 0/1000000 [00:00<?, ?photons/s]"
      ]
     },
     "metadata": {},
     "output_type": "display_data"
    }
   ],
   "source": [
    "rc, output = call_radmc('radmc3d mctherm setthreads 4', total=nphot_therm)\n",
    "#os.system('radmc3d mctherm setthreads 4')"
   ]
  },
  {
   "cell_type": "markdown",
   "id": "15ff2a62",
   "metadata": {},
   "source": [
    "### Check density contours of dust and gas"
   ]
  },
  {
   "cell_type": "code",
   "execution_count": 45,
   "id": "9fc1f86a",
   "metadata": {},
   "outputs": [],
   "source": [
    "import matplotlib.pylab as plb\n",
    "from radmc3dPy import analyze, natconst"
   ]
  },
  {
   "cell_type": "code",
   "execution_count": 51,
   "id": "6751ed86",
   "metadata": {},
   "outputs": [
    {
     "name": "stdout",
     "output_type": "stream",
     "text": [
      "Reading amr_grid.inp\n",
      "Reading wavelength_micron.inp\n",
      "Reading dust_density.inp\n"
     ]
    },
    {
     "data": {
      "image/png": "[encoded data removed]",
      "text/plain": [
       "<Figure size 432x288 with 2 Axes>"
      ]
     },
     "metadata": {
      "needs_background": "light"
     },
     "output_type": "display_data"
    }
   ],
   "source": [
    "data = analyze.readData(ddens=True, ispec='co')\n",
    "c = plb.contourf(data.grid.x/natconst.au, np.pi/2.-data.grid.y, np.log10(data.rhodust[:,:,0,0].T), 30)\n",
    "plb.xlabel('r [AU]')\n",
    "plb.ylabel(r'$\\pi/2-\\theta$')\n",
    "plb.xscale('log')\n",
    "\n",
    "cb = plb.colorbar(c)\n",
    "cb.set_label(r'$\\log_{10}{\\rho}$', rotation=270.)\n",
    "\n"
   ]
  },
  {
   "cell_type": "code",
   "execution_count": 47,
   "id": "4411cf18",
   "metadata": {},
   "outputs": [
    {
     "data": {
      "application/vnd.jupyter.widget-view+json": {
       "model_id": "026fdd16a85c46a3974dd263d0078d14",
       "version_major": 2,
       "version_minor": 0
      },
      "text/plain": [
       "  0%|          | 0/1000000 [00:00<?, ?photons/s]"
      ]
     },
     "metadata": {},
     "output_type": "display_data"
    }
   ],
   "source": [
    "# Now let's make a set of channel maps\n",
    "vkms = 0.\n",
    "rc, output = call_radmc(f'radmc3d image imolspec 1 iline 2 vkms {vkms} incl {incl} phi {phi} npix {npix} setthreads 4 sizeau {sizeau}', total=nphot_scat)\n",
    "#os.system(f'radmc3d image imolspec 1 iline 2 vkms {vkms} incl {incl} phi {phi} npix {npix} setthreads 4 sizeau {sizeau}')"
   ]
  },
  {
   "cell_type": "markdown",
   "id": "29e58927",
   "metadata": {},
   "source": [
    "Read and plot the image"
   ]
  },
  {
   "cell_type": "code",
   "execution_count": 48,
   "id": "b77b17cc",
   "metadata": {},
   "outputs": [
    {
     "name": "stdout",
     "output_type": "stream",
     "text": [
      "Reading image.out\n"
     ]
    },
    {
     "data": {
      "image/png": "[encoded data removed]",
      "text/plain": [
       "<Figure size 720x576 with 2 Axes>"
      ]
     },
     "metadata": {
      "needs_background": "light"
     },
     "output_type": "display_data"
    },
    {
     "data": {
      "text/plain": [
       "{'implot': <matplotlib.image.AxesImage at 0x7f235e84ab80>,\n",
       " 'cbar': <matplotlib.colorbar.Colorbar at 0x7f235e84af70>}"
      ]
     },
     "execution_count": 48,
     "metadata": {},
     "output_type": "execute_result"
    }
   ],
   "source": [
    "im = readImage()\n",
    "f, ax = plt.subplots(figsize=(10, 8))\n",
    "plotImage(im, au=True, log=True, maxlog=3, bunit='inu', dpc=dpc, cmap='magma', ax=ax)"
   ]
  },
  {
   "cell_type": "code",
   "execution_count": 49,
   "id": "75638497",
   "metadata": {},
   "outputs": [
    {
     "data": {
      "text/plain": [
       "(-100.0, 100.0)"
      ]
     },
     "execution_count": 49,
     "metadata": {},
     "output_type": "execute_result"
    },
    {
     "data": {
      "image/png": "[encoded data removed]",
      "text/plain": [
       "<Figure size 432x288 with 1 Axes>"
      ]
     },
     "metadata": {
      "needs_background": "light"
     },
     "output_type": "display_data"
    }
   ],
   "source": [
    "f, ax = plt.subplots()\n",
    "vmax = im.image.max()\n",
    "ax.imshow(im.image[:,:,0], norm=LogNorm(vmin=1e-2 * vmax, vmax=vmax), interpolation='none', extent=np.array([-r_out, r_out, -r_out, r_out])/au)\n",
    "ax.set_xlim(-100,100)\n",
    "ax.set_ylim(-100,100)"
   ]
  },
  {
   "cell_type": "markdown",
   "id": "d7e29578",
   "metadata": {},
   "source": [
    "### Try to make momentmaps"
   ]
  },
  {
   "cell_type": "code",
   "execution_count": null,
   "id": "2802cab1",
   "metadata": {},
   "outputs": [
    {
     "data": {
      "application/vnd.jupyter.widget-view+json": {
       "model_id": "56fc8f3925664f0c88e56471e3cd6285",
       "version_major": 2,
       "version_minor": 0
      },
      "text/plain": [
       "  0%|          | 0/1000000 [00:00<?, ?photons/s]"
      ]
     },
     "metadata": {},
     "output_type": "display_data"
    }
   ],
   "source": [
    "# Create channelmaps in a range of +- 5km/s'\n",
    "widthkms = 3\n",
    "linenlam = 10\n",
    "#os.system(f'radmc3d image iline 2 widthkms {widthkms} linenlam {linenlam} incl {incl} phi {phi} npix {npix} setthreads 4 sizeau {sizeau} nphot_spec {nphot_scat}')\n",
    "rc, output = call_radmc(f'radmc3d image iline 2 widthkms {widthkms} linenlam {linenlam} incl {incl} phi {phi} npix {npix} setthreads 4 sizeau {sizeau}', total=nphot_scat)"
   ]
  },
  {
   "cell_type": "code",
   "execution_count": 130,
   "id": "9d8a10a1",
   "metadata": {},
   "outputs": [
    {
     "name": "stdout",
     "output_type": "stream",
     "text": [
      "Reading image.out\n"
     ]
    }
   ],
   "source": [
    "im = readImage()\n",
    "\n",
    "# Write fits file\n",
    "fname=str(f'cube_incl{incl}phi{phi}_inc{warp}_PA{twist}.fits')\n",
    "nu0 = 230.538*10**9 # Hz\n",
    "im.writeFits(fname=fname, dpc=dpc, coord='03h10m05s -10d05m30s',\n",
    "             bandwidthmhz=2000.0, casa=False, nu0=nu0, stokes='I')"
   ]
  },
  {
   "cell_type": "code",
   "execution_count": 131,
   "id": "12268b3e",
   "metadata": {},
   "outputs": [
    {
     "data": {
      "image/png": "[encoded data removed]",
      "text/plain": [
       "<Figure size 432x288 with 2 Axes>"
      ]
     },
     "metadata": {
      "needs_background": "light"
     },
     "output_type": "display_data"
    }
   ],
   "source": [
    "moment = 1\n",
    "wav0 = lamda_image\n",
    "vrange = [-1.0, 1.0]\n",
    "#mmap = im.getMomentMap(moment=1, wav0=wav0)\n",
    "mmap = im.plotMomentMap(moment=1, wav0=wav0, dpc=dpc, au=True, cmap='RdBu', vclip=vrange)"
   ]
  },
  {
   "cell_type": "code",
   "execution_count": 132,
   "id": "4bdd86fb",
   "metadata": {},
   "outputs": [],
   "source": [
    "import bettermoments as bm\n",
    "data, velax = bm.load_cube(fname)\n",
    "rms = bm.estimate_RMS(data=data, N=5)\n",
    "moments = bm.collapse_first(velax=velax, data=data, rms=rms)\n",
    "bm.save_to_FITS(moments=moments, method='first', path=fname)"
   ]
  },
  {
   "cell_type": "code",
   "execution_count": null,
   "id": "842703a4",
   "metadata": {},
   "outputs": [],
   "source": []
  },
  {
   "cell_type": "code",
   "execution_count": null,
   "id": "641cdaac",
   "metadata": {},
   "outputs": [],
   "source": []
  },
  {
   "cell_type": "code",
   "execution_count": null,
   "id": "2016a04f",
   "metadata": {},
   "outputs": [],
   "source": []
  }
 ],
 "metadata": {
  "jupytext": {
   "cell_metadata_filter": "-all",
   "executable": "/usr/bin/env python",
   "main_language": "python",
   "notebook_metadata_filter": "-all"
  },
  "kernelspec": {
   "display_name": "Python 3 (ipykernel)",
   "language": "python",
   "name": "python3"
  },
  "language_info": {
   "codemirror_mode": {
    "name": "ipython",
    "version": 3
   },
   "file_extension": ".py",
   "mimetype": "text/x-python",
   "name": "python",
   "nbconvert_exporter": "python",
   "pygments_lexer": "ipython3",
   "version": "3.9.7"
  }
 },
 "nbformat": 4,
 "nbformat_minor": 5
}
