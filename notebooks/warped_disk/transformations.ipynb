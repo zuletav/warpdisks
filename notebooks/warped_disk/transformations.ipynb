{
 "cells": [
  {
   "cell_type": "code",
   "execution_count": 1,
   "id": "9dffe072",
   "metadata": {},
   "outputs": [],
   "source": [
    "import numpy as np\n",
    "import sympy as sp\n",
    "from sympy.printing import fcode, numpy\n",
    "import matplotlib.pyplot as plt\n",
    "\n",
    "%matplotlib widget"
   ]
  },
  {
   "cell_type": "code",
   "execution_count": 2,
   "id": "1dd4ed8e",
   "metadata": {},
   "outputs": [],
   "source": [
    "theta, phi = sp.symbols('theta, phi', real=True)\n",
    "t, r = sp.symbols('t, r', real=True)"
   ]
  },
  {
   "cell_type": "markdown",
   "id": "2f84fb94",
   "metadata": {},
   "source": [
    "### Derivatives\n",
    "###### Define a position vector in sphericals"
   ]
  },
  {
   "cell_type": "code",
   "execution_count": 3,
   "id": "b7e8e0ae",
   "metadata": {},
   "outputs": [],
   "source": [
    "r = sp.Function('r')(t)\n",
    "theta = sp.Function('theta')(t)\n",
    "phi = sp.Function('phi')(t)\n",
    "\n",
    "def pos_in_sph(r,theta, phi):\n",
    "    return sp.Matrix([\n",
    "    [r*sp.sin(theta)*sp.cos(phi)],\n",
    "    [r*sp.sin(theta)*sp.sin(phi)],\n",
    "    [r*sp.cos(theta)],\n",
    "])\n",
    "\n",
    "P0 = pos_in_sph(r, theta, phi)\n",
    "\n",
    "v0_sph = sp.simplify(sp.diff(P0, t))"
   ]
  },
  {
   "cell_type": "markdown",
   "id": "7b377542",
   "metadata": {},
   "source": [
    "##### Print it in a way that we can easily turn into code"
   ]
  },
  {
   "cell_type": "code",
   "execution_count": 4,
   "id": "c89997d8",
   "metadata": {},
   "outputs": [
    {
     "name": "stdout",
     "output_type": "stream",
     "text": [
      "Rotation:\n",
      "  # Not supported in Python with np:\n",
      "  # d/dt\n",
      "  # d/dt\n",
      "  # d/dt\n",
      "  # phi\n",
      "  # r\n",
      "  # theta\n",
      "-r(t)*np.sin(phi(t))*np.sin(theta(t))*d/dt(phi(t), t) + r(t)*np.cos(phi(t))*np.cos(theta(t))*d/dt(theta(t), t) + np.sin(theta(t))*np.cos(phi(t))*d/dt(r(t), t)\n",
      "  # Not supported in Python with np:\n",
      "  # d/dt\n",
      "  # d/dt\n",
      "  # d/dt\n",
      "  # phi\n",
      "  # r\n",
      "  # theta\n",
      "r(t)*np.sin(phi(t))*np.cos(theta(t))*d/dt(theta(t), t) + r(t)*np.sin(theta(t))*np.cos(phi(t))*d/dt(phi(t), t) + np.sin(phi(t))*np.sin(theta(t))*d/dt(r(t), t)\n",
      "  # Not supported in Python with np:\n",
      "  # d/dt\n",
      "  # d/dt\n",
      "  # r\n",
      "  # theta\n",
      "-r(t)*np.sin(theta(t))*d/dt(theta(t), t) + np.cos(theta(t))*d/dt(r(t), t)\n"
     ]
    }
   ],
   "source": [
    "printer=numpy.NumPyPrinter()\n",
    "print('Rotation:')\n",
    "for v in v0_sph: print(printer.doprint(v).replace('numpy', 'np').replace('Derivative', 'd/dt'))\n"
   ]
  },
  {
   "cell_type": "code",
   "execution_count": 5,
   "id": "6ff458c3",
   "metadata": {},
   "outputs": [],
   "source": [
    "t = sp.symbols('t')\n",
    "x = sp.Function('x')(t)\n",
    "y = sp.Function('y')(t)\n",
    "z = sp.Function('z')(t)\n",
    "\n",
    "def pos_in_car(x, y, z):\n",
    "    return sp.Matrix([\n",
    "    [sp.sqrt(x**2+y**2+z**2)],\n",
    "    [sp.atan(z/(sp.sqrt(x**2+y**2)))],\n",
    "    [sp.atan(y/x)],\n",
    "])\n",
    "    \n",
    "\n",
    "\n",
    "P0_sph = pos_in_car(x, y, z)\n",
    "v0_car = sp.simplify(sp.diff(P0_sph, t))"
   ]
  },
  {
   "cell_type": "code",
   "execution_count": 6,
   "id": "a753a5c8",
   "metadata": {},
   "outputs": [
    {
     "name": "stdout",
     "output_type": "stream",
     "text": [
      "Rotation:\n",
      "  # Not supported in Python with np:\n",
      "  # d/dt\n",
      "  # d/dt\n",
      "  # d/dt\n",
      "  # x\n",
      "  # y\n",
      "  # z\n",
      "(x(t)*d/dt(x(t), t) + y(t)*d/dt(y(t), t) + z(t)*d/dt(z(t), t))/np.sqrt(x(t)**2 + y(t)**2 + z(t)**2)\n",
      "  # Not supported in Python with np:\n",
      "  # d/dt\n",
      "  # d/dt\n",
      "  # d/dt\n",
      "  # x\n",
      "  # y\n",
      "  # z\n",
      "(-(x(t)*d/dt(x(t), t) + y(t)*d/dt(y(t), t))*z(t) + (x(t)**2 + y(t)**2)*d/dt(z(t), t))/(np.sqrt(x(t)**2 + y(t)**2)*(x(t)**2 + y(t)**2 + z(t)**2))\n",
      "  # Not supported in Python with np:\n",
      "  # d/dt\n",
      "  # d/dt\n",
      "  # x\n",
      "  # y\n",
      "(x(t)*d/dt(y(t), t) - y(t)*d/dt(x(t), t))/(x(t)**2 + y(t)**2)\n"
     ]
    }
   ],
   "source": [
    "#printer=numpy.NumPyPrinter()\n",
    "print('Rotation:')\n",
    "for v in v0_car: print(printer.doprint(v).replace('numpy', 'np').replace('Derivative', 'd/dt'))"
   ]
  },
  {
   "cell_type": "markdown",
   "id": "ae4ba963",
   "metadata": {},
   "source": [
    "## Transformation"
   ]
  },
  {
   "cell_type": "code",
   "execution_count": 7,
   "id": "4a0317eb",
   "metadata": {},
   "outputs": [],
   "source": [
    "def warp(x, y, z, phi, theta):\n",
    "    xprime = x * np.cos(phi)   - y * np.sin(phi) * np.cos(theta) + z * np.sin(phi)   * np.sin(theta)\n",
    "    yprime = x * np.sin(phi)   + y * np.cos(phi) * np.cos(theta) - z * np.sin(theta) * np.cos(phi)\n",
    "    zprime = y * np.sin(theta) + z * np.cos(theta)\n",
    "    return xprime, yprime, zprime\n",
    "\n",
    "def unwarp(x, y, z, phi, theta):\n",
    "    xprime =  x * np.cos(phi) + y * np.sin(phi)\n",
    "    yprime = -x * np.sin(phi) * np.cos(theta) + y * np.cos(phi)   * np.cos(theta) + z * np.sin(theta)\n",
    "    zprime =  x * np.sin(phi) * np.sin(theta) - y * np.sin(theta) * np.cos(phi)   + z * np.cos(theta)\n",
    "    return xprime, yprime, zprime\n",
    "\n",
    "def logistic(a, r, r0, dr):\n",
    "    return np.radians( a / (1 + np.exp((r - r0) / (0.1 * dr))))"
   ]
  },
  {
   "cell_type": "code",
   "execution_count": 44,
   "id": "6ed38dab",
   "metadata": {},
   "outputs": [],
   "source": [
    "def vel_sph_to_cart(r, theta, phi, vr, vtheta, vphi):\n",
    "    \n",
    "    vx = -r*np.sin(phi)*np.sin(theta)*vphi + r*np.cos(phi)*np.cos(theta)*vtheta + np.sin(theta)*np.cos(phi)*vr\n",
    "    vy = r*np.sin(phi)*np.cos(theta)*vtheta + r*np.sin(theta)*np.cos(phi)*vphi + np.sin(phi)*np.sin(theta)*vr\n",
    "    vz = -r*np.sin(theta)*vtheta + np.cos(theta)*vr\n",
    "    \n",
    "    return vx, vy, vz\n",
    "\n",
    "def vel_car_to_sph(x, y, z, vx, vy, vz):\n",
    "    \n",
    "    # Velocities\n",
    "    rho = x**2 + y**2\n",
    "    r = x**2 + y**2 + z**2 \n",
    "    \n",
    "    vr = (x*vx + y*vy + z*vz)/np.sqrt(x**2 + y**2 + z**2)\n",
    "    vtheta = (-(x*vx + y*vy)*z + (x**2 + y**2)*vz)/(np.sqrt(x**2 + y**2)*(x**2 + y**2 + z**2))\n",
    "    vphi = (x*vy - y*vx)/(x**2 + y**2)\n",
    "    return vr, vtheta, vphi"
   ]
  },
  {
   "cell_type": "code",
   "execution_count": 45,
   "id": "189d82db",
   "metadata": {},
   "outputs": [],
   "source": [
    "from astropy import constants as c\n",
    "\n",
    "au = c.au.cgs.value\n",
    "pc = c.pc.cgs.value\n",
    "M_sun = c.M_sun.cgs.value\n",
    "L_sun = c.L_sun.cgs.value\n",
    "R_sun = c.R_sun.cgs.value\n",
    "Grav = c.G.cgs.value\n",
    "m_p = c.m_p.cgs.value"
   ]
  },
  {
   "cell_type": "code",
   "execution_count": 55,
   "id": "c6c00a62",
   "metadata": {},
   "outputs": [],
   "source": [
    "incw = 60.\n",
    "PAw = 60."
   ]
  },
  {
   "cell_type": "code",
   "execution_count": 69,
   "id": "68aac3e4",
   "metadata": {},
   "outputs": [],
   "source": [
    "nphi = 60\n",
    "nr = 15\n",
    "r0 = np.linspace(0.5, 1.2, nr)\n",
    "phi0 = np.linspace(0, 2 * np.pi, nphi)\n",
    "R, PHI = np.meshgrid(r0, phi0, indexing='ij')"
   ]
  },
  {
   "cell_type": "code",
   "execution_count": 70,
   "id": "dcbbc3f1",
   "metadata": {},
   "outputs": [],
   "source": [
    "x = R * np.cos(PHI)\n",
    "y = R * np.sin(PHI)\n",
    "z = np.zeros_like(y)"
   ]
  },
  {
   "cell_type": "code",
   "execution_count": 71,
   "id": "dd3fffe6",
   "metadata": {},
   "outputs": [],
   "source": [
    "inc_a     = logistic(incw, r0, 1, 0.4) ### Specify the r0 and dr in AU \n",
    "PA_a      = logistic(PAw, r0, 1, 0.4)"
   ]
  },
  {
   "cell_type": "code",
   "execution_count": 72,
   "id": "41097290",
   "metadata": {},
   "outputs": [],
   "source": [
    "xw, yw, zw = warp(x, y, z, inc_a[:, None], PA_a[:, None])\n",
    "\n",
    "RW = np.sqrt(xw**2 + yw**2 + zw**2)\n",
    "THETAW = np.pi / 2.0 - np.arctan2(zw, np.sqrt(xw**2 + yw**2))\n",
    "PHIW = np.arctan2(yw, xw) + np.pi"
   ]
  },
  {
   "cell_type": "code",
   "execution_count": 73,
   "id": "1e172319",
   "metadata": {},
   "outputs": [],
   "source": [
    "xu, yu, zu = unwarp(xw, yw, zw, inc_a[:, None], PA_a[:, None])\n",
    "\n",
    "RU = np.sqrt(xu**2 + yu**2 + zu**2)\n",
    "THETAU = np.pi / 2.0 - np.arctan2(zu, np.sqrt(xu**2 + yu**2))\n",
    "PHIU = np.arctan2(yu, xu) + np.pi"
   ]
  },
  {
   "cell_type": "code",
   "execution_count": 74,
   "id": "68510daf",
   "metadata": {},
   "outputs": [],
   "source": [
    "vr = np.zeros_like(RU)\n",
    "vtheta = np.zeros_like(RU)\n",
    "vphi = np.sqrt(Grav * M_sun / RU)\n",
    "\n",
    "vxu, vyu, vzu = vel_sph_to_cart(RU, THETAU, PHIU, vr, vtheta, vphi)\n",
    "vxw, vyw, vzw = warp(vxu, vyu, vzu, inc_a[:, None], PA_a[:, None])\n",
    "#vrw, vthetaw, vphiw = vel_car_to_sph(xu, yu, zu, vxu, vyu, vzu)"
   ]
  },
  {
   "cell_type": "code",
   "execution_count": 78,
   "id": "da0f562d",
   "metadata": {},
   "outputs": [
    {
     "data": {
      "application/vnd.jupyter.widget-view+json": {
       "model_id": "180d809131ae408e844b9aadf73b4f99",
       "version_major": 2,
       "version_minor": 0
      },
      "text/plain": [
       "Canvas(toolbar=Toolbar(toolitems=[('Home', 'Reset original view', 'home', 'home'), ('Back', 'Back to previous …"
      ]
     },
     "metadata": {},
     "output_type": "display_data"
    },
    {
     "data": {
      "text/plain": [
       "Text(0.5, 0, 'y')"
      ]
     },
     "execution_count": 78,
     "metadata": {},
     "output_type": "execute_result"
    }
   ],
   "source": [
    "f = plt.figure()\n",
    "ax = f.add_subplot(projection='3d')\n",
    "ax.set_xlim(-1, 1)\n",
    "ax.set_ylim(-1, 1)\n",
    "ax.set_zlim(-1, 1)\n",
    "\n",
    "#for ir in range(nr):\n",
    "    #ax.plot(x[ir, :], y[ir, :], z[ir,:], 'k')\n",
    "    #ax.plot(xw[ir, :], yw[ir, :], zw[ir,:], 'r-', lw=1)\n",
    "    #ax.plot(xu[ir, :], yu[ir, :], zu[ir,:], 'g--', lw=1)\n",
    "ax.quiver(xw, yw, zw, vxw, vyw, vzw, length=0.05, normalize=True)\n",
    "ax.plot_wireframe(xw, yw, zw, alpha=0.3, color='black')\n",
    "ax.set_xlabel(\"x\")\n",
    "ax.set_ylabel(\"y\")\n"
   ]
  },
  {
   "cell_type": "code",
   "execution_count": null,
   "id": "67d71f61",
   "metadata": {},
   "outputs": [],
   "source": []
  },
  {
   "cell_type": "code",
   "execution_count": null,
   "id": "8e8b9107",
   "metadata": {},
   "outputs": [],
   "source": []
  },
  {
   "cell_type": "code",
   "execution_count": null,
   "id": "42290f3f",
   "metadata": {},
   "outputs": [],
   "source": []
  }
 ],
 "metadata": {
  "kernelspec": {
   "display_name": "Python 3",
   "language": "python",
   "name": "python3"
  },
  "language_info": {
   "codemirror_mode": {
    "name": "ipython",
    "version": 3
   },
   "file_extension": ".py",
   "mimetype": "text/x-python",
   "name": "python",
   "nbconvert_exporter": "python",
   "pygments_lexer": "ipython3",
   "version": "3.8.12"
  }
 },
 "nbformat": 4,
 "nbformat_minor": 5
}
